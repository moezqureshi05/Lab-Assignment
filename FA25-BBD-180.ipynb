{
 "cells": [
  {
   "cell_type": "markdown",
   "id": "e654fa22",
   "metadata": {},
   "source": [
    "# Lab Assignment 2 Tuples\n",
    "## Moez Emad\n",
    "## FA25-BBD-180"
   ]
  },
  {
   "cell_type": "code",
   "execution_count": null,
   "id": "5b300800",
   "metadata": {},
   "outputs": [],
   "source": [
    "#TASK 1"
   ]
  },
  {
   "cell_type": "code",
   "execution_count": 1,
   "id": "0c53d5fe",
   "metadata": {},
   "outputs": [
    {
     "name": "stdout",
     "output_type": "stream",
     "text": [
      "('Moez', 18, 5.1)\n",
      "18\n"
     ]
    }
   ],
   "source": [
    "my_info=('Moez', 18 , 5.10)\n",
    "print(my_info)\n",
    "print(my_info[1])"
   ]
  },
  {
   "cell_type": "code",
   "execution_count": null,
   "id": "63b54972",
   "metadata": {},
   "outputs": [],
   "source": [
    "#TASK 2"
   ]
  },
  {
   "cell_type": "code",
   "execution_count": 4,
   "id": "07c991fb",
   "metadata": {},
   "outputs": [
    {
     "name": "stdout",
     "output_type": "stream",
     "text": [
      "<class 'str'>\n"
     ]
    }
   ],
   "source": [
    "single_day=('Monday')\n",
    "print(type(single_day))"
   ]
  },
  {
   "cell_type": "code",
   "execution_count": null,
   "id": "e1941e1a",
   "metadata": {},
   "outputs": [],
   "source": [
    "#TASK 3"
   ]
  },
  {
   "cell_type": "code",
   "execution_count": 5,
   "id": "027ea133",
   "metadata": {},
   "outputs": [
    {
     "name": "stdout",
     "output_type": "stream",
     "text": [
      "Jupiter\n",
      "Earth\n"
     ]
    }
   ],
   "source": [
    "Planets = ('Mercury', 'Venus', 'Earth', 'Mars', 'Jupiter')\n",
    "print(Planets[-1])\n",
    "print(Planets[-3])"
   ]
  },
  {
   "cell_type": "code",
   "execution_count": null,
   "id": "2c632255",
   "metadata": {},
   "outputs": [],
   "source": [
    "#TASK 4"
   ]
  },
  {
   "cell_type": "code",
   "execution_count": 6,
   "id": "7b3cc809",
   "metadata": {},
   "outputs": [
    {
     "name": "stdout",
     "output_type": "stream",
     "text": [
      "(1, 2, 3, 4, 5, 6)\n"
     ]
    }
   ],
   "source": [
    "front_numbers=(1,2,3)\n",
    "back_numbers=(4,5,6)\n",
    "combined=front_numbers+back_numbers\n",
    "print(combined)"
   ]
  },
  {
   "cell_type": "code",
   "execution_count": null,
   "id": "4d4fd257",
   "metadata": {},
   "outputs": [],
   "source": [
    "#TASK 5"
   ]
  },
  {
   "cell_type": "code",
   "execution_count": 9,
   "id": "ec567a31",
   "metadata": {},
   "outputs": [
    {
     "name": "stdout",
     "output_type": "stream",
     "text": [
      "⭐⭐⭐\n"
     ]
    }
   ],
   "source": [
    "icon=('⭐')\n",
    "repeated=icon*3\n",
    "print(repeated)"
   ]
  },
  {
   "cell_type": "code",
   "execution_count": null,
   "id": "cb6c8fa0",
   "metadata": {},
   "outputs": [],
   "source": [
    "#TASK 6"
   ]
  },
  {
   "cell_type": "code",
   "execution_count": 8,
   "id": "989fcf6f",
   "metadata": {},
   "outputs": [
    {
     "ename": "TypeError",
     "evalue": "'tuple' object does not support item assignment",
     "output_type": "error",
     "traceback": [
      "\u001b[1;31m---------------------------------------------------------------------------\u001b[0m",
      "\u001b[1;31mTypeError\u001b[0m                                 Traceback (most recent call last)",
      "Input \u001b[1;32mIn [8]\u001b[0m, in \u001b[0;36m<cell line: 2>\u001b[1;34m()\u001b[0m\n\u001b[0;32m      1\u001b[0m status \u001b[38;5;241m=\u001b[39m (\u001b[38;5;124m'\u001b[39m\u001b[38;5;124mpending\u001b[39m\u001b[38;5;124m'\u001b[39m, \u001b[38;5;124m'\u001b[39m\u001b[38;5;124mprocessing\u001b[39m\u001b[38;5;124m'\u001b[39m, \u001b[38;5;124m'\u001b[39m\u001b[38;5;124mcompleted\u001b[39m\u001b[38;5;124m'\u001b[39m)\n\u001b[1;32m----> 2\u001b[0m status[\u001b[38;5;241m0\u001b[39m]\u001b[38;5;241m=\u001b[39m(\u001b[38;5;124m'\u001b[39m\u001b[38;5;124mfailed\u001b[39m\u001b[38;5;124m'\u001b[39m)\n\u001b[0;32m      3\u001b[0m \u001b[38;5;28mprint\u001b[39m(status)\n",
      "\u001b[1;31mTypeError\u001b[0m: 'tuple' object does not support item assignment"
     ]
    }
   ],
   "source": [
    "status = ('pending', 'processing', 'completed')\n",
    "status[0]=('failed')\n",
    "print(status)"
   ]
  },
  {
   "cell_type": "code",
   "execution_count": null,
   "id": "a87151a2",
   "metadata": {},
   "outputs": [],
   "source": [
    "#TASK 7"
   ]
  },
  {
   "cell_type": "code",
   "execution_count": 11,
   "id": "0c1298dc",
   "metadata": {},
   "outputs": [
    {
     "name": "stdout",
     "output_type": "stream",
     "text": [
      "(30, 40, 50)\n",
      "(10, 20, 30, 40)\n"
     ]
    }
   ],
   "source": [
    "given_data = (10, 20, 30, 40, 50, 60, 70)\n",
    "print(given_data[2:5])\n",
    "print(given_data[0:4])\n"
   ]
  },
  {
   "cell_type": "code",
   "execution_count": null,
   "id": "675b3320",
   "metadata": {},
   "outputs": [],
   "source": [
    "#TASK 8"
   ]
  },
  {
   "cell_type": "code",
   "execution_count": 16,
   "id": "f2981a04",
   "metadata": {},
   "outputs": [
    {
     "name": "stdout",
     "output_type": "stream",
     "text": [
      "4\n"
     ]
    }
   ],
   "source": [
    "results=('pass','fail','pass','pass','defer','pass')\n",
    "print(results.count('pass'))"
   ]
  },
  {
   "cell_type": "code",
   "execution_count": 17,
   "id": "e731f3fc",
   "metadata": {},
   "outputs": [
    {
     "name": "stdout",
     "output_type": "stream",
     "text": [
      "4\n"
     ]
    }
   ],
   "source": [
    "print(results.index('defer'))"
   ]
  },
  {
   "cell_type": "code",
   "execution_count": null,
   "id": "c860dad7",
   "metadata": {},
   "outputs": [],
   "source": []
  }
 ],
 "metadata": {
  "kernelspec": {
   "display_name": "Python 3 (ipykernel)",
   "language": "python",
   "name": "python3"
  },
  "language_info": {
   "codemirror_mode": {
    "name": "ipython",
    "version": 3
   },
   "file_extension": ".py",
   "mimetype": "text/x-python",
   "name": "python",
   "nbconvert_exporter": "python",
   "pygments_lexer": "ipython3",
   "version": "3.9.12"
  }
 },
 "nbformat": 4,
 "nbformat_minor": 5
}
