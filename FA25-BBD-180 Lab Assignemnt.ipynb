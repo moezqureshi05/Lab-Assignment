{
 "cells": [
  {
   "cell_type": "code",
   "execution_count": 3,
   "id": "b2834818-e7bd-4e73-82ad-3485b713ab5d",
   "metadata": {},
   "outputs": [
    {
     "name": "stdout",
     "output_type": "stream",
     "text": [
      "2\n",
      "4\n",
      "6\n",
      "8\n",
      "10\n",
      "12\n",
      "14\n",
      "16\n",
      "18\n",
      "20\n"
     ]
    }
   ],
   "source": [
    "for a in range(1,21):\n",
    "    if a%2==0:\n",
    "        print(a)"
   ]
  },
  {
   "cell_type": "code",
   "execution_count": 4,
   "id": "14457ab7-d923-4b2e-ae68-1322bc269986",
   "metadata": {},
   "outputs": [
    {
     "name": "stdout",
     "output_type": "stream",
     "text": [
      "Subhan\n",
      "Rayyan\n",
      "Aoun\n"
     ]
    }
   ],
   "source": [
    "names=[ 'Subhan' , 'Rayyan' , 'Aoun']\n",
    "for names in names:\n",
    "    print(names)"
   ]
  },
  {
   "cell_type": "code",
   "execution_count": 5,
   "id": "4202aece-79f3-4bfe-ad88-47c54caa6727",
   "metadata": {},
   "outputs": [
    {
     "name": "stdout",
     "output_type": "stream",
     "text": [
      "10\n",
      "9\n",
      "8\n",
      "7\n",
      "6\n",
      "5\n",
      "4\n",
      "3\n",
      "2\n",
      "1\n"
     ]
    }
   ],
   "source": [
    "for a in range(10,0,-1):\n",
    "    print (a)"
   ]
  },
  {
   "cell_type": "code",
   "execution_count": 7,
   "id": "fdc4930e-aebc-4435-88d0-7100c1440ab2",
   "metadata": {},
   "outputs": [
    {
     "name": "stdout",
     "output_type": "stream",
     "text": [
      "3\n",
      "9\n",
      "12\n",
      "15\n"
     ]
    }
   ],
   "source": [
    "number=[3,4,7,9,10,12,15]\n",
    "for num in number:\n",
    "    if num%3==0:\n",
    "        print(num)"
   ]
  },
  {
   "cell_type": "code",
   "execution_count": 8,
   "id": "128ae3de-fd17-4e70-80f4-cdb8b7cfc98a",
   "metadata": {},
   "outputs": [
    {
     "name": "stdout",
     "output_type": "stream",
     "text": [
      "1\n",
      "4\n",
      "9\n",
      "16\n",
      "25\n",
      "36\n",
      "49\n",
      "64\n",
      "81\n",
      "100\n"
     ]
    }
   ],
   "source": [
    "for q in range(1,11):\n",
    "    print(q**2)"
   ]
  },
  {
   "cell_type": "code",
   "execution_count": 13,
   "id": "75c986a4-7888-4a85-a0ab-1a4b97ed0b45",
   "metadata": {},
   "outputs": [
    {
     "name": "stdout",
     "output_type": "stream",
     "text": [
      "10C=50.0F\n",
      "20C=68.0F\n",
      "30C=86.0F\n",
      "40C=104.0F\n"
     ]
    }
   ],
   "source": [
    "cel=[10,20,30,40]\n",
    "for temp in cel:\n",
    "    farenheit =temp*9/5+32\n",
    "    print(f\"{temp}C={farenheit}F\")"
   ]
  },
  {
   "cell_type": "code",
   "execution_count": 14,
   "id": "109a26e2-f3b1-444d-878d-5428581e6ed5",
   "metadata": {},
   "outputs": [
    {
     "name": "stdout",
     "output_type": "stream",
     "text": [
      "5x1=5\n",
      "5x2=10\n",
      "5x3=15\n",
      "5x4=20\n",
      "5x5=25\n",
      "5x6=30\n",
      "5x7=35\n",
      "5x8=40\n",
      "5x9=45\n",
      "5x10=50\n"
     ]
    }
   ],
   "source": [
    "for a in range(1,11):\n",
    "    print(f'5x{a}={a*5}')"
   ]
  },
  {
   "cell_type": "code",
   "execution_count": 15,
   "id": "3c7c199b-7870-450f-978a-dc3961ed32cc",
   "metadata": {},
   "outputs": [
    {
     "name": "stdout",
     "output_type": "stream",
     "text": [
      "7\n",
      "10\n"
     ]
    }
   ],
   "source": [
    "numbers=[7,3]\n",
    "total=0\n",
    "for num in numbers:\n",
    "    total+=num\n",
    "    print(total)"
   ]
  },
  {
   "cell_type": "code",
   "execution_count": 17,
   "id": "002f5ee2-7d0c-48bd-91cf-091bd0058039",
   "metadata": {},
   "outputs": [
    {
     "name": "stdout",
     "output_type": "stream",
     "text": [
      " \n",
      "Q\n",
      "u\n",
      "e\n",
      "s\n",
      "t\n",
      "i\n",
      "o\n",
      "n\n",
      " \n",
      "9\n",
      " \n"
     ]
    }
   ],
   "source": [
    "alphabets=' Question 9 '\n",
    "for ch in alphabets:\n",
    "    print(ch)"
   ]
  },
  {
   "cell_type": "code",
   "execution_count": 18,
   "id": "3af1c886-3ea1-4b9b-987b-c81a1d853771",
   "metadata": {},
   "outputs": [
    {
     "name": "stdout",
     "output_type": "stream",
     "text": [
      "program\n",
      "violence\n",
      "deaths\n"
     ]
    }
   ],
   "source": [
    "word=[ 'fun' , 'class' , 'program' , 'violence' , 'deaths']\n",
    "for name in word:\n",
    "    if len(name)>5:\n",
    "        print(name)"
   ]
  },
  {
   "cell_type": "code",
   "execution_count": null,
   "id": "d47ef967-27e8-4cb2-bb77-2acd2ba4ecb5",
   "metadata": {},
   "outputs": [],
   "source": []
  }
 ],
 "metadata": {
  "kernelspec": {
   "display_name": "Python 3 (ipykernel)",
   "language": "python",
   "name": "python3"
  },
  "language_info": {
   "codemirror_mode": {
    "name": "ipython",
    "version": 3
   },
   "file_extension": ".py",
   "mimetype": "text/x-python",
   "name": "python",
   "nbconvert_exporter": "python",
   "pygments_lexer": "ipython3",
   "version": "3.13.7"
  }
 },
 "nbformat": 4,
 "nbformat_minor": 5
}
